{
 "cells": [
  {
   "cell_type": "markdown",
   "metadata": {},
   "source": [
    "1-Evin büyüklüğü veri alındığında, evin fiyatını tahmin etmek-Regresyon  \n",
    "2-Eve bakmaya gelenlerin kıyafetlerinden, kimin evi satın alma ihtimalinin yüksek veya düşük olduğu sonucuna varmak-Sınıflandırma  \n",
    "3-Lokasyon ve tarih gibi parametreleri kullanarak, yağmur yağma ihtimalini hesaplamak-Sınıflandırma  \n",
    "4-Eğitim, tecrübe gibi parametreleri kullanarak, kişinin maaşını tahmin etmek-Regresyon  \n",
    "5-Bir insanın yaşının tahmin edilmesi-Regresyon  \n",
    "6-Bir insanın gelirinin tahmin edilmesi-Regresyon  \n",
    "7-Herhangi bir hisse senedinin fiyatının yönünün tahmin edilmesi-Sınıflandırma(Yönü sadece aşağı yukarı olarak düşündüm.)\n"
   ]
  },
  {
   "cell_type": "code",
   "execution_count": null,
   "metadata": {},
   "outputs": [],
   "source": []
  }
 ],
 "metadata": {
  "kernelspec": {
   "display_name": "Python 3",
   "language": "python",
   "name": "python3"
  },
  "language_info": {
   "codemirror_mode": {
    "name": "ipython",
    "version": 3
   },
   "file_extension": ".py",
   "mimetype": "text/x-python",
   "name": "python",
   "nbconvert_exporter": "python",
   "pygments_lexer": "ipython3",
   "version": "3.7.2"
  }
 },
 "nbformat": 4,
 "nbformat_minor": 2
}
